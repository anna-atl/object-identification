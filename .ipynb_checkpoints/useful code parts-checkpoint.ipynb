{
 "cells": [
  {
   "cell_type": "code",
   "execution_count": 1,
   "metadata": {},
   "outputs": [
    {
     "name": "stdout",
     "output_type": "stream",
     "text": [
      "/Users/Annie/Dropbox/Botva/TUM/Master_Thesis/object-identification\n",
      "/Users/Annie/Dropbox/Botva/TUM/Master_Thesis/object-identification/france_rna_processed.csv\n"
     ]
    },
    {
     "data": {
      "text/plain": [
       "False"
      ]
     },
     "execution_count": 1,
     "metadata": {},
     "output_type": "execute_result"
    }
   ],
   "source": [
    "import os \n",
    "#checks current dir\n",
    "print(os.getcwd())\n",
    "#checks location of the file\n",
    "print(os.path.abspath(\"france_rna_processed.csv\"))\n",
    "#checks if folder in dir\n",
    "os.path.isdir('Dropbox')\n",
    "#checks if file is in dir\n",
    "os.path.exists(os.path.join(os.getcwd(), 'france_rna_processed.csv'))\n",
    "#checks if file is somewhere\n",
    "os.path.isfile('../Dropbox/Dropbox/Botva/TUM/Master_Thesis/object-identification/france_rna_processed.csv')\n"
   ]
  },
  {
   "cell_type": "code",
   "execution_count": null,
   "metadata": {},
   "outputs": [],
   "source": [
    "#upgrading pip\n",
    "!{sys.executable} -m pip install --upgrade pip\n",
    "#installing a lib\n",
    "!{sys.executable} -m pip install wordcloud\n",
    "#checks where is pip, python\n",
    "!type pip\n",
    "!type python\n",
    "#checks where is executable\n",
    "sys.executable\n"
   ]
  },
  {
   "cell_type": "code",
   "execution_count": null,
   "metadata": {},
   "outputs": [],
   "source": [
    "#wordcloud without stopwords\n",
    "wordcloud_names = WordCloud(background_color=\"white\").generate(final_text_words)\n",
    "\n",
    "# Lines 2 - 5\n",
    "plt.figure(figsize = (20,20))\n",
    "plt.imshow(wordcloud_names, interpolation='bilinear')\n",
    "plt.axis(\"off\")\n",
    "plt.show()"
   ]
  },
  {
   "cell_type": "code",
   "execution_count": 5,
   "metadata": {},
   "outputs": [
    {
     "name": "stdout",
     "output_type": "stream",
     "text": [
      "/bin/sh: {sys.executable}: command not found\r\n"
     ]
    }
   ],
   "source": [
    "!{sys.executable} -m pip install textblob"
   ]
  },
  {
   "cell_type": "code",
   "execution_count": null,
   "metadata": {},
   "outputs": [],
   "source": []
  },
  {
   "cell_type": "code",
   "execution_count": 8,
   "metadata": {},
   "outputs": [
    {
     "name": "stdout",
     "output_type": "stream",
     "text": [
      "python is /usr/bin/python\n",
      "pip is /usr/local/bin/pip\n"
     ]
    },
    {
     "data": {
      "text/plain": [
       "'/usr/local/opt/python/bin/python3.7'"
      ]
     },
     "execution_count": 8,
     "metadata": {},
     "output_type": "execute_result"
    }
   ],
   "source": [
    "import sys\n",
    "!type python\n",
    "!type pip\n",
    "sys.executable\n"
   ]
  }
 ],
 "metadata": {
  "kernelspec": {
   "display_name": "Python 3",
   "language": "python",
   "name": "python3"
  },
  "language_info": {
   "codemirror_mode": {
    "name": "ipython",
    "version": 3
   },
   "file_extension": ".py",
   "mimetype": "text/x-python",
   "name": "python",
   "nbconvert_exporter": "python",
   "pygments_lexer": "ipython3",
   "version": "3.7.2"
  }
 },
 "nbformat": 4,
 "nbformat_minor": 2
}
